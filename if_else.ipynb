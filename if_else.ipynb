{
  "nbformat": 4,
  "nbformat_minor": 0,
  "metadata": {
    "colab": {
      "provenance": [],
      "toc_visible": true,
      "mount_file_id": "11a0QxwLvTiI-V4kmczbqmfxuXi8Sj1yb",
      "authorship_tag": "ABX9TyMTbxof2JNOviw5qbyfljoq",
      "include_colab_link": true
    },
    "kernelspec": {
      "name": "python3",
      "display_name": "Python 3"
    },
    "language_info": {
      "name": "python"
    }
  },
  "cells": [
    {
      "cell_type": "markdown",
      "metadata": {
        "id": "view-in-github",
        "colab_type": "text"
      },
      "source": [
        "<a href=\"https://colab.research.google.com/github/Theubaa/coding-pratice/blob/main/if_else.ipynb\" target=\"_parent\"><img src=\"https://colab.research.google.com/assets/colab-badge.svg\" alt=\"Open In Colab\"/></a>"
      ]
    },
    {
      "cell_type": "code",
      "execution_count": null,
      "metadata": {
        "colab": {
          "base_uri": "https://localhost:8080/"
        },
        "id": "1lo_lwbAjGYo",
        "outputId": "b3b98883-28f4-4624-fb0d-ddbe714f93d0"
      },
      "outputs": [
        {
          "output_type": "stream",
          "name": "stdout",
          "text": [
            "enter your age100\n",
            "you r budha\n"
          ]
        }
      ],
      "source": [
        "age = int(input(\"enter your age\"))\n",
        "if age >= 100:\n",
        "  print(\"you r budha\")\n",
        "else:\n",
        "  print(\"you r not budha\")"
      ]
    },
    {
      "cell_type": "code",
      "source": [],
      "metadata": {
        "id": "PQXcAJe6jL1p"
      },
      "execution_count": null,
      "outputs": []
    },
    {
      "cell_type": "markdown",
      "source": [
        "# find maximum between two numbers"
      ],
      "metadata": {
        "id": "q-hGA4I3kuQH"
      }
    },
    {
      "cell_type": "code",
      "source": [
        "number_1 = int(input(\"enter first number\"))\n",
        "number_2 = int(input(\"enter second number\"))\n",
        "if number_1 > number_2:\n",
        "  print(\"number_1 is greater\")\n",
        "else:\n",
        "  print(\"number_2 is greater\")"
      ],
      "metadata": {
        "colab": {
          "base_uri": "https://localhost:8080/"
        },
        "id": "bN_cW1DxkyLn",
        "outputId": "568363aa-290a-4ba6-baaf-eff232d373a2"
      },
      "execution_count": null,
      "outputs": [
        {
          "output_type": "stream",
          "name": "stdout",
          "text": [
            "enter first number12\n",
            "enter second number33\n",
            "number_2 is greater\n"
          ]
        }
      ]
    },
    {
      "cell_type": "markdown",
      "source": [
        "# find maximum between three numbers"
      ],
      "metadata": {
        "id": "_EgL-HqulJ06"
      }
    },
    {
      "cell_type": "code",
      "source": [
        "first_no = int(input(\"entwer the 1st no\"))\n",
        "second_no = int(input(\"entwer the 2nd no\"))\n",
        "third_no = int(input(\"entwer the 3rd no\"))\n",
        "if first_no >= second_no and first_no >= third_no:\n",
        "  print(first_no)\n",
        "elif second_no >= first_no and second_no >= third_no:\n",
        "  print(second_no)\n",
        "else:\n",
        "  print(third_no)"
      ],
      "metadata": {
        "colab": {
          "base_uri": "https://localhost:8080/"
        },
        "id": "0KZsUVUrlMaZ",
        "outputId": "e340115f-8dfe-4936-fd7a-f567d11a6bde"
      },
      "execution_count": null,
      "outputs": [
        {
          "output_type": "stream",
          "name": "stdout",
          "text": [
            "entwer the 1st no16\n",
            "entwer the 2nd no32\n",
            "entwer the 3rd no10\n",
            "32\n"
          ]
        }
      ]
    },
    {
      "cell_type": "markdown",
      "source": [
        "# wap to check no is negative , positive or zero"
      ],
      "metadata": {
        "id": "qrdXPyfJfTp1"
      }
    },
    {
      "cell_type": "code",
      "source": [
        "num = int(input(\"enter the no\"))\n",
        "if num>0:\n",
        "  print(\"positive\")\n",
        "elif num==0:\n",
        "  print(\"zero\")\n",
        "else:\n",
        "  print(\"Negative\")"
      ],
      "metadata": {
        "colab": {
          "base_uri": "https://localhost:8080/"
        },
        "id": "E4-HKC74faPd",
        "outputId": "279a0465-b03a-45ae-90b6-0eb166729952"
      },
      "execution_count": null,
      "outputs": [
        {
          "output_type": "stream",
          "name": "stdout",
          "text": [
            "enter the no-10\n",
            "Negative\n"
          ]
        }
      ]
    },
    {
      "cell_type": "markdown",
      "source": [
        "# check the no is divisible by 5 or 11 or not"
      ],
      "metadata": {
        "id": "p-yiJzFRgvZM"
      }
    },
    {
      "cell_type": "code",
      "source": [
        "num = int(input(\"enter the no\"))\n",
        "if (num%5==0 and num%11==0):\n",
        "  print(\"no divisible by 5 or 11\")\n",
        "elif num%11 == 0:\n",
        "  print(\"no is divisible by 11\")\n",
        "elif num%5 ==0:\n",
        "  print(\"no divisible by 5 \")\n",
        "else :\n",
        "  print(\"no is not divisible by 5 or 11\")"
      ],
      "metadata": {
        "colab": {
          "base_uri": "https://localhost:8080/"
        },
        "id": "K67OVp2Eg2Zy",
        "outputId": "aaa472b7-6cd1-440c-fb16-6bbe2304c7cd"
      },
      "execution_count": null,
      "outputs": [
        {
          "output_type": "stream",
          "name": "stdout",
          "text": [
            "enter the no17\n",
            "no is not divisible by 5 or 11\n"
          ]
        }
      ]
    },
    {
      "cell_type": "markdown",
      "source": [
        "# check the no is even or odd"
      ],
      "metadata": {
        "id": "sQnbvXhukD3V"
      }
    },
    {
      "cell_type": "code",
      "source": [
        "num = int(input(\"enter the no\"))\n",
        "if num%2==0:\n",
        "  print(\"no is even\")\n",
        "else:\n",
        "  print(\"no is odd\")"
      ],
      "metadata": {
        "colab": {
          "base_uri": "https://localhost:8080/"
        },
        "id": "mpU7YRoZkKsS",
        "outputId": "23ea7d21-8600-406d-ec64-48fb485d7068"
      },
      "execution_count": null,
      "outputs": [
        {
          "output_type": "stream",
          "name": "stdout",
          "text": [
            "enter the no17\n",
            "no is odd\n"
          ]
        }
      ]
    },
    {
      "cell_type": "markdown",
      "source": [
        "# year is leap year or not"
      ],
      "metadata": {
        "id": "xdUEIFKTkogl"
      }
    },
    {
      "cell_type": "code",
      "source": [
        "year = int(input(\"enter the year\"))\n",
        "if year/4 == 0:\n",
        "  print(\"leap year\")\n",
        "elif year/400 == 0:\n",
        "  print(\"leap year\")\n",
        "elif year/100==0:\n",
        "  print(\"leap year\")\n",
        "else:\n",
        "  print(\"not leap year\")"
      ],
      "metadata": {
        "id": "X8l3AH8Ukvpj",
        "colab": {
          "base_uri": "https://localhost:8080/",
          "height": 0
        },
        "outputId": "894616c3-cbda-4de0-e2aa-b6f534bde2ae"
      },
      "execution_count": 2,
      "outputs": [
        {
          "output_type": "stream",
          "name": "stdout",
          "text": [
            "enter the year1700\n",
            "not leap year\n"
          ]
        }
      ]
    },
    {
      "cell_type": "markdown",
      "source": [
        "# Python program to perform Addition Subtraction Multiplication\n",
        "### and Division of two numbers"
      ],
      "metadata": {
        "id": "KSf3_gtJipH9"
      }
    },
    {
      "cell_type": "code",
      "source": [
        "num1 = int(input(\"Enter First Number: \"))\n",
        "num2 = int(input(\"Enter Second Number: \"))\n",
        "print(\"Enter which operation would you like to perform?\")\n",
        "ch = input(\"Enter any of these char for specific operation +,-,*,/: \")\n",
        "result = 0\n",
        "if ch == '+':\n",
        " result = num1 + num2\n",
        "elif ch == '-':\n",
        " result = num1 - num2\n",
        "elif ch == '*':\n",
        " result = num1 * num2\n",
        "elif ch == '/':\n",
        " result = num1 / num2\n",
        "else:\n",
        " print(\"Input character is not recognized!\")\n",
        "print(num1, ch , num2, \":\", result)"
      ],
      "metadata": {
        "colab": {
          "base_uri": "https://localhost:8080/"
        },
        "id": "D7MQvtTYiroy",
        "outputId": "c7032073-cb0f-485d-970c-5d9dc278ed42"
      },
      "execution_count": null,
      "outputs": [
        {
          "output_type": "stream",
          "name": "stdout",
          "text": [
            "Enter First Number: 2\n",
            "Enter Second Number: 3\n",
            "Enter which operation would you like to perform?\n",
            "Enter any of these char for specific operation +,-,*,/: +\n",
            "2 + 3 : 5\n"
          ]
        }
      ]
    },
    {
      "cell_type": "markdown",
      "source": [
        "# check character is Capital or small"
      ],
      "metadata": {
        "id": "YVPcYbuN7hI8"
      }
    },
    {
      "cell_type": "code",
      "source": [
        "char = input(\"enter the char\",)\n",
        "\n",
        "if char == char.upper():\n",
        "\tprint(\"Uppercase\")\n",
        "else:\n",
        "\tprint(\"Lowercase\")"
      ],
      "metadata": {
        "colab": {
          "base_uri": "https://localhost:8080/",
          "height": 0
        },
        "id": "DHEM1YTf_mQc",
        "outputId": "292c9211-b9b1-433a-fdac-ea895d7df5c7"
      },
      "execution_count": 17,
      "outputs": [
        {
          "output_type": "stream",
          "name": "stdout",
          "text": [
            "enter the charRAM BAHADUR IS FAKE\n",
            "Uppercase\n"
          ]
        }
      ]
    },
    {
      "cell_type": "markdown",
      "source": [
        "# cHECK aLPHABET IS VOWEL OR CONSONENTT"
      ],
      "metadata": {
        "id": "QlXbap9TATj0"
      }
    },
    {
      "cell_type": "code",
      "source": [
        "vowel = ('a','e','i','o','u','A','E','I','O','U')\n",
        "consonent =('B', 'C','D', 'F', 'G', 'H', 'J', 'K', 'L', 'M', 'N', 'P', 'Q', 'R', 'S', 'T', 'V', 'W', 'X', 'Y', 'Z','b', 'c', 'd', 'f', 'g', 'h', 'j', 'k', 'l', 'm', 'n', 'p', 'q', 'r', 's', 't', 'v', 'w', 'x', 'y' , 'z')\n",
        "char = input(\"Enter a alphabet\")\n",
        "if char == vowel:\n",
        "  print(\"alphabet is vowel\")\n",
        "else :\n",
        "  print(\"alphabet is consonant\")"
      ],
      "metadata": {
        "colab": {
          "base_uri": "https://localhost:8080/",
          "height": 0
        },
        "id": "QoCIMH7wAaf7",
        "outputId": "768f41ed-a52c-4b16-c242-c863c0c32569"
      },
      "execution_count": 18,
      "outputs": [
        {
          "output_type": "stream",
          "name": "stdout",
          "text": [
            "Enter a alphabetd\n",
            "alphabet is consonant\n"
          ]
        }
      ]
    },
    {
      "cell_type": "markdown",
      "source": [
        "# input week no and print week day"
      ],
      "metadata": {
        "id": "RWixJrmLCmkU"
      }
    },
    {
      "cell_type": "code",
      "source": [
        "day_1 = ('monday')\n",
        "day_2 = ('tuesday')\n",
        "day_3 = ('wednesday')\n",
        "day_4 = ('thursday')\n",
        "day_5 = ('friday')\n",
        "day_6 = ('saturday')\n",
        "day_7 = ('Sunday')\n",
        "\n",
        "usr_input = int(input(\"enter the week day  in no\"))\n",
        "if usr_input==1:\n",
        "  print(day_1)\n",
        "elif usr_input==2:\n",
        "  print(day_2)\n",
        "elif usr_input==3:\n",
        "  print(day_3)\n",
        "elif usr_input==4:\n",
        "  print(day_4)\n",
        "elif usr_input==5:\n",
        "  print(day_5)\n",
        "elif usr_input==6:\n",
        "  print(day_6)\n",
        "elif usr_input==7:\n",
        "  print(day_7)\n",
        "else:\n",
        "  print(\"invalid day\")"
      ],
      "metadata": {
        "colab": {
          "base_uri": "https://localhost:8080/",
          "height": 0
        },
        "id": "byeQow-uCrZD",
        "outputId": "f7c3ced9-3b5e-4d31-e8a8-4233c3b4da18"
      },
      "execution_count": 19,
      "outputs": [
        {
          "output_type": "stream",
          "name": "stdout",
          "text": [
            "enter the week day  in no6\n",
            "saturday\n"
          ]
        }
      ]
    },
    {
      "cell_type": "markdown",
      "source": [
        "# enter the month no and get month name and how many days in month"
      ],
      "metadata": {
        "id": "N3TkF_oDGXur"
      }
    },
    {
      "cell_type": "code",
      "source": [
        "month_1 = ('January', '31 days')\n",
        "month_2 = ('February', '28 days', 'leap year then 29')\n",
        "month_3 = ('march', '31 days')\n",
        "month_4 = ('april', '30 days')\n",
        "month_5 = ('may', '31 days')\n",
        "month_6 = ('June', '30 days')\n",
        "month_7 = ('July', '31 days')\n",
        "month_8 = ('august', '31 days')\n",
        "month_9 = ('september', '30 days')\n",
        "month_10 = ('october', '31 days')\n",
        "month_11 = ('november', '30 days')\n",
        "month_12= ('december', '31 days')\n",
        "month_no = int(input(\"enter the month no\"))\n",
        "if month_no == 1:\n",
        "  print(month_1)\n",
        "elif month_no == 2:\n",
        "  print(month_2)\n",
        "elif month_no == 3:\n",
        "  print(month_3)\n",
        "elif month_no == 4:\n",
        "  print(month_4)\n",
        "elif month_no == 5:\n",
        "  print(month_2)\n",
        "elif month_no == 6:\n",
        "  print(month_6)\n",
        "elif month_no == 7:\n",
        "  print(month_2)\n",
        "elif month_no == 8:\n",
        "  print(month_8)\n",
        "elif month_no == 9:\n",
        "  print(month_9)\n",
        "elif month_no == 10:\n",
        "  print(month_10)\n",
        "elif month_no == 11:\n",
        "  print(month_11)\n",
        "elif month_no == 12:\n",
        "  print(month_12)\n",
        "else:\n",
        "  print(\"invalid month no\")\n"
      ],
      "metadata": {
        "colab": {
          "base_uri": "https://localhost:8080/",
          "height": 0
        },
        "id": "RuDJARu-GhEC",
        "outputId": "b49d01bb-a582-47ca-e68e-160815da38b7"
      },
      "execution_count": 21,
      "outputs": [
        {
          "output_type": "stream",
          "name": "stdout",
          "text": [
            "enter the month no6\n",
            "('June', '30 days')\n"
          ]
        }
      ]
    }
  ]
}